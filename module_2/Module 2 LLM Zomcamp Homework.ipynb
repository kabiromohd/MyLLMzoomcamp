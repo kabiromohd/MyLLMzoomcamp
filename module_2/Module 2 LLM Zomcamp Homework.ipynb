{
 "cells": [
  {
   "cell_type": "code",
   "execution_count": 1,
   "id": "d43aa8a7-8738-4c1d-b7b2-b5e1a09267e7",
   "metadata": {},
   "outputs": [],
   "source": [
    "#import need libraries\n",
    "import pandas as pd\n",
    "\n",
    "import ollama\n",
    "import openai\n",
    "from openai import OpenAI"
   ]
  },
  {
   "cell_type": "code",
   "execution_count": 3,
   "id": "96838998",
   "metadata": {},
   "outputs": [
    {
     "name": "stdout",
     "output_type": "stream",
     "text": [
      "Sure, here is the answer to the question:\n",
      "\n",
      "10 * 10 = 100.\n"
     ]
    }
   ],
   "source": [
    "def ollama_llm(prompt):\n",
    "    client = OpenAI(\n",
    "    base_url=\"http://localhost:11434/v1\",\n",
    "    api_key='ollama',\n",
    "    )\n",
    "    \n",
    "    response = client.chat.completions.create(\n",
    "        model='gemma:2b',    \n",
    "        messages=[{\"role\": \"user\", \"content\": prompt}],\n",
    "        temperature = 0.0\n",
    "    )\n",
    "    return response.choices[0].message.content\n",
    "\n",
    "prompt = \"10 * 10\"\n",
    "result = ollama_llm(prompt)\n",
    "print(result)\n",
    "\n"
   ]
  },
  {
   "cell_type": "code",
   "execution_count": null,
   "id": "807e9788-9154-48ce-8317-53fd1029fbb2",
   "metadata": {},
   "outputs": [],
   "source": [
    "@kabiromohd ➜ /workspaces/kabir_comp_llm (main) $ du -h\n",
    "1.6G    ./ollama_files/models/blobs\n",
    "8.0K    ./ollama_files/models/manifests/registry.ollama.ai/library/gemma\n",
    "12K     ./ollama_files/models/manifests/registry.ollama.ai/library\n",
    "16K     ./ollama_files/models/manifests/registry.ollama.ai\n",
    "20K     ./ollama_files/models/manifests\n",
    "1.6G    ./ollama_files/models\n",
    "1.6G    ./ollama_files\n",
    "8.0K    ./.git/logs/refs/heads\n",
    "12K     ./.git/logs/refs/remotes/origin\n",
    "16K     ./.git/logs/refs/remotes\n",
    "28K     ./.git/logs/refs\n",
    "36K     ./.git/logs\n",
    "4.0K    ./.git/lfs/tmp\n",
    "8.0K    ./.git/lfs\n",
    "8.0K    ./.git/info\n",
    "68K     ./.git/hooks\n",
    "20K     ./.git/objects/b7\n",
    "16K     ./.git/objects/1a\n",
    "8.0K    ./.git/objects/dc\n",
    "4.0K    ./.git/objects/info\n",
    "36K     ./.git/objects/09\n",
    "8.0K    ./.git/objects/0f\n",
    "8.0K    ./.git/objects/24\n",
    "8.0K    ./.git/objects/b8\n",
    "16K     ./.git/objects/pack\n",
    "8.0K    ./.git/objects/a6\n",
    "136K    ./.git/objects\n",
    "8.0K    ./.git/refs/heads\n",
    "4.0K    ./.git/refs/tags\n",
    "12K     ./.git/refs/remotes/origin\n",
    "16K     ./.git/refs/remotes\n",
    "32K     ./.git/refs\n",
    "4.0K    ./.git/branches\n",
    "328K    ./.git\n",
    "1.6G    .\n"
   ]
  },
  {
   "cell_type": "code",
   "execution_count": 4,
   "id": "405dd183",
   "metadata": {},
   "outputs": [
    {
     "name": "stdout",
     "output_type": "stream",
     "text": [
      "Sure, here's the formula for energy:\n",
      "\n",
      "**E = K + U**\n",
      "\n",
      "Where:\n",
      "\n",
      "* **E** is the energy in joules (J)\n",
      "* **K** is the kinetic energy in joules (J)\n",
      "* **U** is the potential energy in joules (J)\n",
      "\n",
      "**Kinetic energy (K)** is the energy an object possesses when it moves or is in motion. It is calculated as half the product of an object's mass (m) and its velocity (v) squared:\n",
      "\n",
      "**K = 1/2mv^2**\n",
      "\n",
      "**Potential energy (U)** is the energy an object possesses due to its position or configuration. It is calculated as the product of an object's mass, gravitational constant (g), and height or position above a reference point.\n",
      "\n",
      "**U = mgh**\n",
      "\n",
      "Where:\n",
      "\n",
      "* **m** is the mass in kilograms (kg)\n",
      "* **g** is the gravitational constant (9.8 m/s^2)\n",
      "* **h** is the height or position in meters (m)\n",
      "\n",
      "The formula shows that energy can be expressed as the sum of kinetic and potential energy. The kinetic energy is a measure of the object's ability to do work, while the potential energy is a measure of the object's ability to do work against a force.\n"
     ]
    }
   ],
   "source": [
    "def ollama_llm(prompt):\n",
    "    client = OpenAI(\n",
    "    base_url=\"http://localhost:11434/v1\",\n",
    "    api_key='ollama',\n",
    "    )\n",
    "    \n",
    "    response = client.chat.completions.create(\n",
    "        model='gemma:2b',    \n",
    "        messages=[{\"role\": \"user\", \"content\": prompt}],\n",
    "        temperature = 0.0\n",
    "    )\n",
    "    return response.choices[0].message.content\n",
    "\n",
    "prompt = \"What's the formula for energy?\"\n",
    "result = ollama_llm(prompt)\n",
    "print(result)\n"
   ]
  },
  {
   "cell_type": "code",
   "execution_count": 6,
   "id": "3a3e9d49",
   "metadata": {},
   "outputs": [
    {
     "name": "stdout",
     "output_type": "stream",
     "text": [
      "Number of tokens: 256\n"
     ]
    }
   ],
   "source": [
    "import tiktoken\n",
    "\n",
    "encoding = tiktoken.encoding_for_model(\"gpt-4o\")\n",
    "\n",
    "tokens = encoding.encode(result)\n",
    "num_tokens = len(tokens)\n",
    "print(f\"Number of tokens: {num_tokens}\")\n"
   ]
  }
 ],
 "metadata": {
  "kernelspec": {
   "display_name": "Python 3 (ipykernel)",
   "language": "python",
   "name": "python3"
  },
  "language_info": {
   "codemirror_mode": {
    "name": "ipython",
    "version": 3
   },
   "file_extension": ".py",
   "mimetype": "text/x-python",
   "name": "python",
   "nbconvert_exporter": "python",
   "pygments_lexer": "ipython3",
   "version": "3.10.13"
  }
 },
 "nbformat": 4,
 "nbformat_minor": 5
}
